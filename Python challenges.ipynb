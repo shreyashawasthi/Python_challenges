{
 "cells": [
  {
   "cell_type": "markdown",
   "metadata": {},
   "source": [
    "## Validating Email address\n",
    "\n",
    "A valid email address meets the following criteria:\n",
    "\n",
    "It's composed of a username, domain name, and extension assembled in this format: username@domain.extension\n",
    "The username starts with an English alphabetical character, and any subsequent characters consist of one or more of the following: alphanumeric characters, -,., and _.\n",
    "The domain and extension contain only English alphabetical characters.\n",
    "The extension is , , or  characters in length.\n",
    "Given  pairs of names and email addresses as input, print each name and email address pair having a valid email address on a new line.\n",
    "\n",
    "### sample input\n",
    "\n",
    "2  \n",
    "* DEXTER <dexter@hotmail.com>\n",
    "* VIRUS <virus!@variable.:p>\n",
    "\n",
    "### Sample Output\n",
    "\n",
    "DEXTER <dexter@hotmail.com>"
   ]
  },
  {
   "cell_type": "code",
   "execution_count": 1,
   "metadata": {},
   "outputs": [
    {
     "name": "stdout",
     "output_type": "stream",
     "text": [
      "4\n",
      "this <is@valid.com>\n",
      "this <is_som@radom.stuff>\n",
      "this <is_it@valid.com>\n",
      "this <_is@notvalid.com>\n",
      "this <is@valid.com>\n",
      "this <is_it@valid.com>\n"
     ]
    }
   ],
   "source": [
    "#working code\n",
    "import email.utils\n",
    "import string\n",
    "n = input()\n",
    "ls = []\n",
    "alpha_list_low = list(string.ascii_lowercase) \n",
    "alpha_list_up = list(string.ascii_uppercase)\n",
    "\n",
    "for i in range(1,int(n)+1):\n",
    "    email2 = input()\n",
    "    ls.append(email2)\n",
    "for item in ls:\n",
    "    flag_uname = True\n",
    "    flag_domain = True\n",
    "    flag_ext = True\n",
    "    tup = email.utils.parseaddr(item)\n",
    "    stri = email.utils.formataddr(tup)\n",
    "    if stri==item:\n",
    "        #print(stri)\n",
    "        add_list = list(tup[1])\n",
    "        #print(add_list)\n",
    "        if '@' in add_list:\n",
    "            if '.' in add_list:\n",
    "                \n",
    "                uname = add_list[:add_list.index('@')]\n",
    "                add_list = add_list[add_list.index('@')+1:]\n",
    "                #domain = add_list[add_list.index('@')+1:add_list.index('.')]\n",
    "                domain = add_list[:add_list.index('.')]\n",
    "                extension = add_list[add_list.index('.')+1:]\n",
    "                #extension = add_list[add_list.index('.')+1:]\n",
    "                #print(uname,domain,extension)\n",
    "                if uname[0] not in alpha_list_low:\n",
    "                    flag_uname = False\n",
    "                for i in domain:\n",
    "                    if i not in alpha_list_low:\n",
    "                        flag_domain = False\n",
    "                for i in extension:\n",
    "                    if i not in alpha_list_low:\n",
    "                        flag_ext = False\n",
    "                if len(extension)>3:\n",
    "                    flag_ext = False\n",
    "                if flag_uname == True:\n",
    "                    if flag_domain == True:\n",
    "                        if flag_ext == True:\n",
    "                            print(stri)"
   ]
  },
  {
   "cell_type": "code",
   "execution_count": null,
   "metadata": {},
   "outputs": [],
   "source": []
  }
 ],
 "metadata": {
  "kernelspec": {
   "display_name": "Python 3",
   "language": "python",
   "name": "python3"
  },
  "language_info": {
   "codemirror_mode": {
    "name": "ipython",
    "version": 3
   },
   "file_extension": ".py",
   "mimetype": "text/x-python",
   "name": "python",
   "nbconvert_exporter": "python",
   "pygments_lexer": "ipython3",
   "version": "3.8.3"
  }
 },
 "nbformat": 4,
 "nbformat_minor": 4
}
